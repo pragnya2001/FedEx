{
  "nbformat": 4,
  "nbformat_minor": 0,
  "metadata": {
    "colab": {
      "private_outputs": true,
      "provenance": [],
      "collapsed_sections": [
        "0wOQAZs5pc--"
      ],
      "include_colab_link": true
    },
    "kernelspec": {
      "name": "python3",
      "display_name": "Python 3"
    },
    "language_info": {
      "name": "python"
    }
  },
  "cells": [
    {
      "cell_type": "markdown",
      "metadata": {
        "id": "view-in-github",
        "colab_type": "text"
      },
      "source": [
        "<a href=\"https://colab.research.google.com/github/pragnya2001/FedEx/blob/main/FedEx.ipynb\" target=\"_parent\"><img src=\"https://colab.research.google.com/assets/colab-badge.svg\" alt=\"Open In Colab\"/></a>"
      ]
    },
    {
      "cell_type": "code",
      "source": [],
      "metadata": {
        "id": "I1apcow5dxii"
      },
      "execution_count": null,
      "outputs": []
    },
    {
      "cell_type": "markdown",
      "source": [
        "# **Project Name**    -   FedEx Logistics Delivery Performance Analysis\n",
        "\n"
      ],
      "metadata": {
        "id": "vncDsAP0Gaoa"
      }
    },
    {
      "cell_type": "markdown",
      "source": [
        "\n",
        "\n",
        "##### **Project Type**    - Exploratory Data Analysis (EDA)\n",
        "##### **Contribution**    - Pragnyasmita Chand"
      ],
      "metadata": {
        "id": "beRrZCGUAJYm"
      }
    },
    {
      "cell_type": "markdown",
      "source": [
        "# **Project Summary -**"
      ],
      "metadata": {
        "id": "FJNUwmbgGyua"
      }
    },
    {
      "cell_type": "markdown",
      "source": [
        "In today's fast-paced global supply chain, timely and cost-effective logistics play a critical role in the business success. FedEx, as a global logistics service provider , handles a vast number of shipments daily across multiplecountries, vendors and transportation modes.Ensuring that deliveries arrive on time and at optimized costs is essential not only for maintaining customer satisfaction but also for sustaining operational efficiency and profitability.\n",
        "\n",
        "\n",
        "This project focuses on analysing the FedEx logistics delivery dataset to explore delivery performance trends and uncover patterns that affect shipment delays and freight costs. The datast includes detailed records of shipment information such as shipment modes, managed teams, delivery dates, scheduled delivery dates, countries involved, vendor INCO terms, weights, freight costs, insurance costs and dates when purchase orderd were sent to vendors.\n",
        "\n",
        "The key objective of this EDA project is to understand how various features influence delivery outcomes and to identify the factors that contributes to delay or higher costs. By investigating the relationships between variables like shipment mode, country of delivery, vendor terms and delivery lead time, we can extract actionable insights that may help in improving servic reliablity and cost efficiency.\n",
        "\n",
        "The analysis begins with an overview and cleaning of the dataset to identify and handle missing or incorrect data. Next, we create a new feature that helps determine whether a shipment was delivered on time or not. We also compute the number of das between when the purchase order was sent and the scheduled delivery date, as this lead time likely to impact on-time delivery.\n",
        "\n",
        "The core of this project lies in performing univarite, bivariate and multivariate analyses. We explore how the distribution of shipment mode, costs and weights differ across the dataset. Further, we examine how various combinations of features- such as freight cost by shipment mode or delays by country-interact to reveal patterns and insights. Correlation analysis helps us quantify the streangth of relationships between numerical variables, such as weight, freight cost and insurance.\n",
        "\n",
        "Using visualisation tools like matplotlib, seaborn and plotly, we present insightd in a clear and intuitive format.These visualizations aid in understanding which factors are most closely associated with delays and high costs. For example, the analysis my reveal that air shipments, although more expensive, have the highest on-time delivery rates, or thet certain countries face more frequent delivery delays due to customs or geographic challenges.\n",
        "\n",
        "The findings from this analysis will allow stakeholders at FedEx to make more informed decisions rgarding shipment strategies, vendor negotiations and performance monitoring.Recommendation may inclued optimizing transportation modes, adjusting delivery lead times, or focusing on country specific process improvements.\n",
        "\n",
        "Ultimately, this project demonstrat hoe data-driven decisions can improve logistics performance and customer satisfaction while reducing unnecessary costs.It serves as a foundational step towards building more predictive and intelligenr logistics systems that adapt to complex supply chain environments.\n"
      ],
      "metadata": {
        "id": "F6v_1wHtG2nS"
      }
    },
    {
      "cell_type": "markdown",
      "source": [
        "# **GitHub Link -**"
      ],
      "metadata": {
        "id": "w6K7xa23Elo4"
      }
    },
    {
      "cell_type": "markdown",
      "source": [
        "Provide your GitHub Link here.\n",
        "https://github.com/pragnya2001"
      ],
      "metadata": {
        "id": "h1o69JH3Eqqn"
      }
    },
    {
      "cell_type": "markdown",
      "source": [
        "# **Problem Statement**\n"
      ],
      "metadata": {
        "id": "yQaldy8SH6Dl"
      }
    },
    {
      "cell_type": "markdown",
      "source": [
        "FedEx logistics faces challenges in ensuring consistent and timely deliveries across different countries and vendors.Delayed shipments can cause disruption in the supply chain, increase operational costs and lead to dissatisfied customers. There is a ned to understand the underlying causes of these delays and the factors affecting freight costs.\n",
        "\n",
        "\n",
        "From the dataset provideed, we observed that several elements- such s shipment mode, country, vendor terms, lead time and shipment weight-mat influence delivery timeliness and cost effectiveness. However, the specific impact nd interactions of these variables are unclear without a detailed exploratory analysis."
      ],
      "metadata": {
        "id": "DpeJGUA3kjGy"
      }
    },
    {
      "cell_type": "markdown",
      "source": [
        "#### **Define Your Business Objective?**"
      ],
      "metadata": {
        "id": "PH-0ReGfmX4f"
      }
    },
    {
      "cell_type": "markdown",
      "source": [
        "The business objective of this project:\n",
        "\n",
        "- Analyze delivery data to identify key factors influencing om-time vs delayed shipments.\n",
        "- Evaluate how vendor terms, shipment modes and countries impact freight costs and delivery reiability.\n",
        "- Discover patternsand trends taht FedEx can act on to improve logistics performance.\n",
        "- Provide data-driven insights and recommendations to help FedEx optimize operations, reduce delivery delays and lower freight costs.\n",
        "\n",
        "By achiving these objectives, FedEx will be better equipped to make strategic decisions about vendor management, shipment planning and resource allocation - ultimately enhancing customer satisfaction and profitability.\n"
      ],
      "metadata": {
        "id": "PhDvGCAqmjP1"
      }
    },
    {
      "cell_type": "markdown",
      "source": [
        "# ***Let's Begin !***"
      ],
      "metadata": {
        "id": "O_i_v8NEhb9l"
      }
    },
    {
      "cell_type": "markdown",
      "source": [
        "## ***1. Know Your Data***"
      ],
      "metadata": {
        "id": "HhfV-JJviCcP"
      }
    },
    {
      "cell_type": "markdown",
      "source": [
        "### Import Libraries"
      ],
      "metadata": {
        "id": "Y3lxredqlCYt"
      }
    },
    {
      "cell_type": "code",
      "source": [
        "# Import Libraries"
      ],
      "metadata": {
        "id": "M8Vqi-pPk-HR"
      },
      "execution_count": null,
      "outputs": []
    },
    {
      "cell_type": "code",
      "source": [
        "import pandas as pd\n",
        "import numpy as np\n",
        "import matplotlib.pyplot as plt\n",
        "import seaborn as sns\n",
        "import plotly.express as px\n",
        "\n"
      ],
      "metadata": {
        "id": "B21s-g1Az-GL"
      },
      "execution_count": null,
      "outputs": []
    },
    {
      "cell_type": "markdown",
      "source": [
        "### Dataset Loading"
      ],
      "metadata": {
        "id": "3RnN4peoiCZX"
      }
    },
    {
      "cell_type": "code",
      "source": [
        "# Load Dataset"
      ],
      "metadata": {
        "id": "4CkvbW_SlZ_R"
      },
      "execution_count": null,
      "outputs": []
    },
    {
      "cell_type": "code",
      "source": [
        "from google.colab import files\n",
        "uploaded = files.upload()\n"
      ],
      "metadata": {
        "id": "zQX4GG2_-uzR"
      },
      "execution_count": null,
      "outputs": []
    },
    {
      "cell_type": "markdown",
      "source": [
        "### Dataset First View"
      ],
      "metadata": {
        "id": "x71ZqKXriCWQ"
      }
    },
    {
      "cell_type": "code",
      "source": [
        "# Dataset First Look"
      ],
      "metadata": {
        "id": "LWNFOSvLl09H"
      },
      "execution_count": null,
      "outputs": []
    },
    {
      "cell_type": "code",
      "source": [
        "df = pd.read_csv('SCMS_Delivery_History_Dataset.csv')\n",
        "df.head()"
      ],
      "metadata": {
        "id": "ro6YlV8E_quA"
      },
      "execution_count": null,
      "outputs": []
    },
    {
      "cell_type": "code",
      "source": [
        "df.tail()"
      ],
      "metadata": {
        "id": "htRGAR5iAdEM"
      },
      "execution_count": null,
      "outputs": []
    },
    {
      "cell_type": "markdown",
      "source": [
        "### Dataset Rows & Columns count"
      ],
      "metadata": {
        "id": "7hBIi_osiCS2"
      }
    },
    {
      "cell_type": "code",
      "source": [
        "# Dataset Rows & Columns count"
      ],
      "metadata": {
        "id": "Kllu7SJgmLij"
      },
      "execution_count": null,
      "outputs": []
    },
    {
      "cell_type": "code",
      "source": [
        "df.shape"
      ],
      "metadata": {
        "id": "Q0h7zyIlAl1l"
      },
      "execution_count": null,
      "outputs": []
    },
    {
      "cell_type": "markdown",
      "source": [
        "### Dataset Information"
      ],
      "metadata": {
        "id": "JlHwYmJAmNHm"
      }
    },
    {
      "cell_type": "code",
      "source": [
        "# Dataset Info"
      ],
      "metadata": {
        "id": "e9hRXRi6meOf"
      },
      "execution_count": null,
      "outputs": []
    },
    {
      "cell_type": "code",
      "source": [
        "df.info()"
      ],
      "metadata": {
        "id": "4C1qUuF7AoND"
      },
      "execution_count": null,
      "outputs": []
    },
    {
      "cell_type": "markdown",
      "source": [
        "#### Duplicate Values"
      ],
      "metadata": {
        "id": "35m5QtbWiB9F"
      }
    },
    {
      "cell_type": "code",
      "source": [
        "# Dataset Duplicate Value Count"
      ],
      "metadata": {
        "id": "1sLdpKYkmox0"
      },
      "execution_count": null,
      "outputs": []
    },
    {
      "cell_type": "code",
      "source": [
        "duplicate_count = df.duplicated().sum()\n",
        "print(f\"number of duplicate rows: {duplicate_count}\")"
      ],
      "metadata": {
        "id": "baEEVlCFArhL"
      },
      "execution_count": null,
      "outputs": []
    },
    {
      "cell_type": "code",
      "source": [
        "duplicate_count = df.duplicated().sum()\n",
        "print(f\"number of duplicate columns: {duplicate_count}\")"
      ],
      "metadata": {
        "id": "uQOy1yf3AwcA"
      },
      "execution_count": null,
      "outputs": []
    },
    {
      "cell_type": "markdown",
      "source": [
        "#### Missing Values/Null Values"
      ],
      "metadata": {
        "id": "PoPl-ycgm1ru"
      }
    },
    {
      "cell_type": "code",
      "source": [
        "# Missing Values/Null Values Count"
      ],
      "metadata": {
        "id": "GgHWkxvamxVg"
      },
      "execution_count": null,
      "outputs": []
    },
    {
      "cell_type": "code",
      "source": [
        "missing_values = df.isnull().sum()"
      ],
      "metadata": {
        "id": "QKNyCD51Az00"
      },
      "execution_count": null,
      "outputs": []
    },
    {
      "cell_type": "code",
      "source": [
        "missing_values = missing_values[missing_values > 0]"
      ],
      "metadata": {
        "id": "vItMG9ECA1-0"
      },
      "execution_count": null,
      "outputs": []
    },
    {
      "cell_type": "code",
      "source": [
        "missing_values"
      ],
      "metadata": {
        "id": "Y8snO0yFA44J"
      },
      "execution_count": null,
      "outputs": []
    },
    {
      "cell_type": "code",
      "source": [
        "# Visualizing the missing values"
      ],
      "metadata": {
        "id": "3q5wnI3om9sJ"
      },
      "execution_count": null,
      "outputs": []
    },
    {
      "cell_type": "code",
      "source": [
        "plt.figure(figsize=(12,6))\n",
        "sns.heatmap(df.isnull(), cbar=False, cmap=\"YlGnBu\")\n",
        "plt.title(\"Heatmap of missing values\")\n",
        "plt.show()"
      ],
      "metadata": {
        "id": "tkq0825LBA7Q"
      },
      "execution_count": null,
      "outputs": []
    },
    {
      "cell_type": "code",
      "source": [
        "#Handling missing values"
      ],
      "metadata": {
        "id": "FJxbSyNYBIS_"
      },
      "execution_count": null,
      "outputs": []
    },
    {
      "cell_type": "code",
      "source": [
        "#shipment mode"
      ],
      "metadata": {
        "id": "qkbdbhQeBKGQ"
      },
      "execution_count": null,
      "outputs": []
    },
    {
      "cell_type": "code",
      "source": [
        "most_common_mode = df['Shipment Mode'].mode()[0]\n",
        "df.fillna({'Shipment Mode':'most_common_mode'}, inplace = True)"
      ],
      "metadata": {
        "id": "dxnMH_b6BLcy"
      },
      "execution_count": null,
      "outputs": []
    },
    {
      "cell_type": "code",
      "source": [
        "#Dosage"
      ],
      "metadata": {
        "id": "Lpy1BPrjBN_i"
      },
      "execution_count": null,
      "outputs": []
    },
    {
      "cell_type": "code",
      "source": [
        "df.fillna({'Dosage':'Unknown'}, inplace = True)"
      ],
      "metadata": {
        "id": "6NEMakk_BPVp"
      },
      "execution_count": null,
      "outputs": []
    },
    {
      "cell_type": "markdown",
      "source": [
        "### What did you know about your dataset?"
      ],
      "metadata": {
        "id": "H0kj-8xxnORC"
      }
    },
    {
      "cell_type": "markdown",
      "source": [
        "This dataset is a historical delivery record from SCMS(Supply chain management system), likely associated with a logistics provider like FedEx. It includes detailed information about shipment such as :\n",
        "- Geographic data: country, Region\n",
        "- Logistics data: shipment mode,weght, freight cost, delivery dates, vendors\n",
        "- Performance metrics: Delivered on time, days late, PO processing time and delivery delays\n",
        "- Financial data: Freight cost(USD), line item insurance(USD) and line item value\n",
        "\n",
        "From initial exploration:\n",
        "- The dataset contains 10,324 rows and 30 column, representing individual shipment records.\n",
        "- There are a mix of categorical, numerical and date fields.\n",
        "- Some fields will require data type conversion.\n",
        "\n",
        " This dataset is rich in logistics,cost and performance metrics, making it suitable for answering business questions related to delivery efficieny, cost analysis, vendor performance and regional shipment trends."
      ],
      "metadata": {
        "id": "gfoNAAC-nUe_"
      }
    },
    {
      "cell_type": "markdown",
      "source": [
        "## ***2. Understanding Your Variables***"
      ],
      "metadata": {
        "id": "nA9Y7ga8ng1Z"
      }
    },
    {
      "cell_type": "code",
      "source": [
        "# Dataset Columns"
      ],
      "metadata": {
        "id": "j7xfkqrt5Ag5"
      },
      "execution_count": null,
      "outputs": []
    },
    {
      "cell_type": "code",
      "source": [
        "df.columns"
      ],
      "metadata": {
        "id": "uzupTVr9Bcpg"
      },
      "execution_count": null,
      "outputs": []
    },
    {
      "cell_type": "code",
      "source": [
        "# Dataset Describe"
      ],
      "metadata": {
        "id": "DnOaZdaE5Q5t"
      },
      "execution_count": null,
      "outputs": []
    },
    {
      "cell_type": "code",
      "source": [
        "df.describe()"
      ],
      "metadata": {
        "id": "QxWybk7EBgDu"
      },
      "execution_count": null,
      "outputs": []
    },
    {
      "cell_type": "markdown",
      "source": [
        "### Variables Description"
      ],
      "metadata": {
        "id": "PBTbrJXOngz2"
      }
    },
    {
      "cell_type": "markdown",
      "source": [
        "Below is a detailed description of each variable present in the SCMS delivery hisstory dataset. Understanding these variable is crucial for performing effective analysis and deriving actionable insights.\n",
        "\n",
        "**variable**                **description**\n",
        "1.ID                        -Unique identifier for each record/shipment.\n",
        "\n",
        "2.Country                   -The destination country for the delivery.\n",
        "\n",
        "3.Region                    -Geographical region where the delivery took place.\n",
        "\n",
        "4.PO                       -Main purchase order number related to the shipment.\n",
        "\n",
        "5.Prime_line_no             -The line number within the order indicating items sequece.\n",
        "\n",
        "6.Vendor                    -Supplier responsible for delivering the goods.\n",
        "\n",
        "7.Shipment_mode             -Mode of transport used\n",
        "\n",
        "8.PO sent to vendor date    -Date when the purchase order was sent to the vendor.\n",
        "\n",
        "9.Scheduled delivery date   -Expected delivery date of the item.\n",
        "\n",
        "10.Delivery to client date   -Actual date when the item was delivered to the client.\n",
        "\n",
        "11.Delivery recorded date    -Date when the delivery was offiialy recorded in the system\n",
        "\n",
        "12.Item description          -Description of the delivered product.\n",
        "\n",
        "13.Line item quantity        -Total number of units in the shipment line.\n",
        "\n",
        "14.Weight(kg)                -Weight of the shipment in kilograms.\n",
        "\n",
        "15.Freight cost              -Shipping cost in USD.\n",
        "\n",
        "16.Line item insurance(USD)  -Insurance value for the shipment.\n",
        "\n",
        "17.Line item value(USD)      -Total declared value of the items shipped.\n",
        "\n",
        "18.Delivered on time         -Indicates whether the shipment was delivered on time.\n",
        "\n",
        "19.Managed by                -Entity or organization that managed the shipment process.\n",
        "\n",
        "20.Sub classification        -Subgroup classification of the item.\n",
        "\n",
        "21.Late delivery risk        -Binary flag or indication of whether a shipment risk of delay exists.\n",
        "\n",
        "22.Dosage                    -Amount value for medical items.\n",
        "\n",
        "23.Dosage form               -Form in which the dosage is administered.\n",
        "\n",
        "24.Product group             -High-level grouping of products.\n",
        "\n",
        "25.Product category          -More specific classification of the item.\n",
        "\n",
        "26.Item type                 -Classification of inventory\n",
        "\n",
        "27.Unit of measure           -unit used for packaging\n",
        "\n",
        "28.Manufacture               -Name of the company that manufactured the product.\n",
        "\n",
        "29.Brand                     -Brand under which the product is marketed.\n",
        "\n",
        "30.Currency                  -Currency used for the financial transactions in the dataset."
      ],
      "metadata": {
        "id": "aJV4KIxSnxay"
      }
    },
    {
      "cell_type": "markdown",
      "source": [
        "### Check Unique Values for each variable."
      ],
      "metadata": {
        "id": "u3PMJOP6ngxN"
      }
    },
    {
      "cell_type": "code",
      "source": [
        "# Check Unique Values for each variable."
      ],
      "metadata": {
        "id": "zms12Yq5n-jE"
      },
      "execution_count": null,
      "outputs": []
    },
    {
      "cell_type": "code",
      "source": [
        "unique_counts = df.nunique().sort_values(ascending=False)\n",
        "print(\"unique values in each column:\\n\")\n",
        "print(unique_counts)"
      ],
      "metadata": {
        "id": "lrk4IAZVBr52"
      },
      "execution_count": null,
      "outputs": []
    },
    {
      "cell_type": "markdown",
      "source": [
        "## 3. ***Data Wrangling***"
      ],
      "metadata": {
        "id": "dauF4eBmngu3"
      }
    },
    {
      "cell_type": "markdown",
      "source": [
        "### Data Wrangling Code"
      ],
      "metadata": {
        "id": "bKJF3rekwFvQ"
      }
    },
    {
      "cell_type": "code",
      "source": [
        "# convert date columns"
      ],
      "metadata": {
        "id": "wk-9a2fpoLcV"
      },
      "execution_count": null,
      "outputs": []
    },
    {
      "cell_type": "code",
      "source": [
        "date_cols = ['PO Sent to Vendor Date','Scheduled Delivery Date','Delivered to Client Date']\n",
        "for col in date_cols:\n",
        "    df[col] = pd.to_datetime(df[col],errors='coerce')\n"
      ],
      "metadata": {
        "id": "iL8-AE9kB25a"
      },
      "execution_count": null,
      "outputs": []
    },
    {
      "cell_type": "code",
      "source": [
        "# convert numeric columns"
      ],
      "metadata": {
        "id": "ZpeqFCyACAgE"
      },
      "execution_count": null,
      "outputs": []
    },
    {
      "cell_type": "code",
      "source": [
        "num_cols = ['Freight Cost (USD)','Line Item Value','Line Item Insurance (USD)','Weight (Kilograms)']\n",
        "for col in num_cols:\n",
        "    df[col]= pd.to_numeric(df[col],errors='coerce')\n"
      ],
      "metadata": {
        "id": "Zq-dp8L5CCXZ"
      },
      "execution_count": null,
      "outputs": []
    },
    {
      "cell_type": "code",
      "source": [
        "# Rename columns"
      ],
      "metadata": {
        "id": "m_FNIHb5CGeG"
      },
      "execution_count": null,
      "outputs": []
    },
    {
      "cell_type": "code",
      "source": [
        "df.rename(columns={'Freight Cost (USD)':'Freightcost','Weight (Kilograms)':'Weightkg','Line Item Insurance (USD)':'InsuranceUSD'}, inplace=True)"
      ],
      "metadata": {
        "id": "VlMEvC07CIU5"
      },
      "execution_count": null,
      "outputs": []
    },
    {
      "cell_type": "code",
      "source": [
        "#create new useful columns"
      ],
      "metadata": {
        "id": "mLelBmUrCK7z"
      },
      "execution_count": null,
      "outputs": []
    },
    {
      "cell_type": "code",
      "source": [
        "df['Delivery Delay (Days)'] = (df['Delivered to Client Date'] - df['Scheduled Delivery Date']).dt.days\n"
      ],
      "metadata": {
        "id": "c7IdirY6CNLu"
      },
      "execution_count": null,
      "outputs": []
    },
    {
      "cell_type": "code",
      "source": [
        "df['On Time Delivery'] = df['Delivery Delay (Days)'].apply(lambda x:'late' if x > 0 else 'On Time')"
      ],
      "metadata": {
        "id": "7A3wHHQNCPPW"
      },
      "execution_count": null,
      "outputs": []
    },
    {
      "cell_type": "markdown",
      "source": [
        "### What all manipulations have you done and insights you found?"
      ],
      "metadata": {
        "id": "MSa1f5Uengrz"
      }
    },
    {
      "cell_type": "markdown",
      "source": [
        "Before proceeding with the analysis, we performed several essential data wrangling steps to clean and prepare the dataset.\n",
        "- Checked for missing values and handleed them appropriately.\n",
        "- Removed duplicates to maintain data intigrity.\n",
        "- Convered data types for data columns for accurate time-basee analysis.\n",
        "- Created new features such as delivery delay to assess delivery performance.\n",
        "- Standardized categorical values to ensure consistency."
      ],
      "metadata": {
        "id": "LbyXE7I1olp8"
      }
    },
    {
      "cell_type": "markdown",
      "source": [
        "**Insights**\n",
        "- Several columns contaoned null values, especially in date fields and insurance amounts.\n",
        "- Shipment mode is dominated by Air, suggesting urgency or value in deliveries.\n",
        "- Some shipments were delivered earlier than the scheduled date, while others and significant delays- this insight will be further explored in upcoming visualization.\n",
        "- Weight and freight cost show early signs of correlation, indicating potential for cost optimization."
      ],
      "metadata": {
        "id": "qdtO4bcICYG3"
      }
    },
    {
      "cell_type": "markdown",
      "source": [
        "## ***4. Data Vizualization, Storytelling & Experimenting with charts : Understand the relationships between variables***"
      ],
      "metadata": {
        "id": "GF8Ens_Soomf"
      }
    },
    {
      "cell_type": "markdown",
      "source": [
        "#### Chart - 1"
      ],
      "metadata": {
        "id": "0wOQAZs5pc--"
      }
    },
    {
      "cell_type": "markdown",
      "source": [
        "#### Chart - 1 - Distribution of Shipment Modes\n",
        "\n",
        "**(Bar chart)**"
      ],
      "metadata": {
        "id": "leGrZuZPCrmn"
      }
    },
    {
      "cell_type": "code",
      "source": [
        "shipment_counts = df['Shipment Mode'].value_counts()\n",
        "plt.figure(figsize=(8,5))\n",
        "shipment_counts.plot(kind='bar', color = 'skyblue', edgecolor = 'black')\n",
        "plt.title('Distribution of Shipment Mode')\n",
        "plt.xlabel('Shipment Mode')\n",
        "plt.ylabel('Number of Shipment')\n",
        "plt.xticks(rotation=45)\n",
        "plt.tight_layout()\n",
        "plt.show()"
      ],
      "metadata": {
        "id": "kg_6h3CLCvdj"
      },
      "execution_count": null,
      "outputs": []
    },
    {
      "cell_type": "markdown",
      "source": [
        "##### 1. Why did you pick the specific chart?"
      ],
      "metadata": {
        "id": "K5QZ13OEpz2H"
      }
    },
    {
      "cell_type": "markdown",
      "source": [
        "-  We used a **Bar chart** beacuse Shipment mode is a categorical variable, and we want to understand the frequency of each shipment method used in the dataset."
      ],
      "metadata": {
        "id": "XESiWehPqBRc"
      }
    },
    {
      "cell_type": "markdown",
      "source": [
        "##### 2. What is/are the insight(s) found from the chart?"
      ],
      "metadata": {
        "id": "lQ7QKXXCp7Bj"
      }
    },
    {
      "cell_type": "markdown",
      "source": [
        "-  **Insights**\n",
        "      -  Air is the most frequently used shipment mode by a significant margin.\n",
        "      -  Other modees like Ocean and Truck are less common.\n",
        "      -  This indicates that he logistiv=cs strategy may be focused on fast delivery, possibly for high-priority items."
      ],
      "metadata": {
        "id": "C_j1G7yiqdRP"
      }
    },
    {
      "cell_type": "markdown",
      "source": [
        "##### 3. Will the gained insights help creating a positive business impact?\n",
        "Are there any insights that lead to negative growth? Justify with specific reason."
      ],
      "metadata": {
        "id": "448CDAPjqfQr"
      }
    },
    {
      "cell_type": "markdown",
      "source": [
        "- **YES** the gained insights help create a positive business impact.\n",
        "    -  Air shipments are usually more expensive- the compay can evaluate whether switiching some order to slower but chaper modes is feasible.\n",
        "    -  If fast delivery is critical, warehouses might need stock replenishment strategies alinged with the trend.\n",
        "- Yes can lead to **negative growth** over reliance on air shipmens might lead to higher logistics costs, which can reduce profit margins. If this trend isn't alinged wit the urgency of the orders, it could negatively impact business dinance.\n"
      ],
      "metadata": {
        "id": "3cspy4FjqxJW"
      }
    },
    {
      "cell_type": "markdown",
      "source": [
        "#### Chart - 2"
      ],
      "metadata": {
        "id": "KSlN3yHqYklG"
      }
    },
    {
      "cell_type": "markdown",
      "source": [
        "#### Chart - 2 - Relationship Between Weight and Freight cost\n",
        "\n",
        "**(Scatter plot)**"
      ],
      "metadata": {
        "id": "TxvtT72lD8U3"
      }
    },
    {
      "cell_type": "code",
      "source": [
        "plt.figure(figsize=(8,5))\n",
        "plt.scatter(df['Weightkg'], df['Freightcost'], alpha=0.5, color='teal', edgecolor='Purple')\n",
        "plt.title('Weight vs. Freight Cost')\n",
        "plt.xlabel('weightkg')\n",
        "plt.ylabel('Freightcost')\n",
        "plt.grid(True)\n",
        "plt.tight_layout()\n",
        "plt.show()"
      ],
      "metadata": {
        "id": "jlZqyoPdD4YR"
      },
      "execution_count": null,
      "outputs": []
    },
    {
      "cell_type": "markdown",
      "source": [
        "##### 1. Why did you pick the specific chart?"
      ],
      "metadata": {
        "id": "t6dVpIINYklI"
      }
    },
    {
      "cell_type": "markdown",
      "source": [
        "-  We used a scatter plot because we're analysing the relationship between 2 numerical variable: Weightkg and Freightcost . A scatter plot is the best way to visually explore possible correlation or pattern."
      ],
      "metadata": {
        "id": "5aaW0BYyYklI"
      }
    },
    {
      "cell_type": "markdown",
      "source": [
        "##### 2. What is/are the insight(s) found from the chart?"
      ],
      "metadata": {
        "id": "ijmpgYnKYklI"
      }
    },
    {
      "cell_type": "markdown",
      "source": [
        "-  **Insights**\n",
        "    -  There appears to be a possitive correlation between weight and freight cost - as weight increases, cost generally increases.\n",
        "    -  However, ther are several outlier where freight costs are unusally high for lower weighhts, which might be due to shipment mode or special handling charges."
      ],
      "metadata": {
        "id": "PSx9atu2YklI"
      }
    },
    {
      "cell_type": "markdown",
      "source": [
        "##### 3. Will the gained insights help creating a positive business impact?\n",
        "Are there any insights that lead to negative growth? Justify with specific reason."
      ],
      "metadata": {
        "id": "-JiQyfWJYklI"
      }
    },
    {
      "cell_type": "markdown",
      "source": [
        "-  **YES** the insight helps create a positive business impact\n",
        "    -  Understanding ths relationship can help in predicting fright costs more accurately.\n",
        "    -  It also helps logistics terms in pricing decisins and budgeting for sipment.\n",
        "    -  By identifying outliers, the company can investigate potential inefficiencies or overcharges.\n",
        "- Yes if many outlier exist where lightweight shipments cost excessively more, it could indicate ineffiient shipping practices, like using costly express options unnecessarilly. this culd **negatively** affect margins if not managed."
      ],
      "metadata": {
        "id": "BcBbebzrYklV"
      }
    },
    {
      "cell_type": "markdown",
      "source": [
        "#### Chart - 3"
      ],
      "metadata": {
        "id": "EM7whBJCYoAo"
      }
    },
    {
      "cell_type": "markdown",
      "source": [
        "#### Chart - 3 - Freight cost by Shipment mode\n",
        "\n",
        "**(Box plot)**"
      ],
      "metadata": {
        "id": "RjjLhQ2JETUL"
      }
    },
    {
      "cell_type": "code",
      "source": [
        "plt.figure(figsize=(8,5))\n",
        "sns.boxplot(data=df, x='Shipment Mode', y='Freightcost',hue='Shipment Mode', palette='pastel', legend=False)\n",
        "plt.title('Freight Cost Distribution by Shipment Mode')\n",
        "plt.xlabel('Shipment Mode')\n",
        "plt.ylabel('Freightcost')\n",
        "plt.xticks(rotation=45)\n",
        "plt.tight_layout()\n",
        "plt.show"
      ],
      "metadata": {
        "id": "T5UJ-b_AEXXB"
      },
      "execution_count": null,
      "outputs": []
    },
    {
      "cell_type": "markdown",
      "source": [
        "##### 1. Why did you pick the specific chart?"
      ],
      "metadata": {
        "id": "fge-S5ZAYoAp"
      }
    },
    {
      "cell_type": "markdown",
      "source": [
        "-  a **Box plot** is idle for comparing how freight costs vary across different shipment modes. It clearly shows the median, quartiles and outlier."
      ],
      "metadata": {
        "id": "5dBItgRVYoAp"
      }
    },
    {
      "cell_type": "markdown",
      "source": [
        "##### 2. What is/are the insight(s) found from the chart?"
      ],
      "metadata": {
        "id": "85gYPyotYoAp"
      }
    },
    {
      "cell_type": "markdown",
      "source": [
        "-  **Insights**\n",
        "    -  Air shipments have a highermedian freight costs, with a wider range and many high value outliers.\n",
        "    -  Oceans and Truck shipments are relatively cheaper an more consistent in cost.\n",
        "    -  This shows that the mode of shipment significantly impact cost."
      ],
      "metadata": {
        "id": "4jstXR6OYoAp"
      }
    },
    {
      "cell_type": "markdown",
      "source": [
        "##### 3. Will the gained insights help creating a positive business impact?\n",
        "Are there any insights that lead to negative growth? Justify with specific reason."
      ],
      "metadata": {
        "id": "RoGjAbkUYoAp"
      }
    },
    {
      "cell_type": "markdown",
      "source": [
        "-  **YES** creat a possitive business impact\n",
        "    -  By knowing which shipment modes are costlier, decision-make can optimize for cost efficienc depending on delivery urgency.\n",
        "    -  Policy suggestions like using air onl when necessary can be derived from the chart.\n",
        "-  If the cost shipment modes like Air are used unnecessarily for the non-urgent deliveries it could increase logistic costs and redue profitability. this coukd indicate inefficient shipment planning."
      ],
      "metadata": {
        "id": "zfJ8IqMcYoAp"
      }
    },
    {
      "cell_type": "markdown",
      "source": [
        "#### Chart - 4 - Delivery Time Analysis(PO sent to vendor vs. Scheduled Delivery)\n",
        "\n",
        "**(Histogram + KDE plot)**"
      ],
      "metadata": {
        "id": "4Of9eVA-YrdM"
      }
    },
    {
      "cell_type": "code",
      "source": [
        "df['Lead Time (Days)'] = (df['Scheduled Delivery Date'] - df['PO Sent to Vendor Date']).dt.days"
      ],
      "metadata": {
        "id": "UCRhlJhtEv1S"
      },
      "execution_count": null,
      "outputs": []
    },
    {
      "cell_type": "code",
      "source": [
        "plt.figure(figsize=(10,6))\n",
        "sns.histplot(df['Lead Time (Days)'].dropna(), kde=True, bins=30, color='skyblue')\n",
        "plt.title('Distribution of Delivery Lead Time')\n",
        "plt.xlabel('Lead Time (Days)')\n",
        "plt.ylabel('Frequency')\n",
        "plt.tight_layout()\n",
        "plt.show()"
      ],
      "metadata": {
        "id": "NtazlJ_ZEyI-"
      },
      "execution_count": null,
      "outputs": []
    },
    {
      "cell_type": "markdown",
      "source": [
        "##### 1. Why did you pick the specific chart?"
      ],
      "metadata": {
        "id": "iky9q4vBYrdO"
      }
    },
    {
      "cell_type": "markdown",
      "source": [
        "-  This **Histogram with KDE** like helps visualize the distribution of lead times across all shipments, showing central tendencies, skewness and spread."
      ],
      "metadata": {
        "id": "aJRCwT6DYrdO"
      }
    },
    {
      "cell_type": "markdown",
      "source": [
        "##### 2. What is/are the insight(s) found from the chart?"
      ],
      "metadata": {
        "id": "F6T5p64dYrdO"
      }
    },
    {
      "cell_type": "markdown",
      "source": [
        "-  **Insight**\n",
        "      -  Most shipments have a lead time between 20 -60 days.\n",
        "      -  A few shipments take over 100 days, indicating possible delays or plaanig inefficiencies.\n",
        "      -  The cureve may be right-skewed, suggesting occasional long delays."
      ],
      "metadata": {
        "id": "Xx8WAJvtYrdO"
      }
    },
    {
      "cell_type": "markdown",
      "source": [
        "##### 3. Will the gained insights help creating a positive business impact?\n",
        "Are there any insights that lead to negative growth? Justify with specific reason."
      ],
      "metadata": {
        "id": "y-Ehk30pYrdP"
      }
    },
    {
      "cell_type": "markdown",
      "source": [
        "-  **YES** a positive impact-\n",
        "      -  Identifying a typical lead time helps in forecatsing delivery scheduleds and setting realistic customer expectations.\n",
        "      -  Long tail delays can be flagged for further process audits or vendor evaluation.\n",
        "-  Long or inconsistenct lead time can hurt customer satisfaction and operational efficiency. If these aren't addressed, they could lead to **Supply chain bottlenecks or incresed costs**"
      ],
      "metadata": {
        "id": "jLNxxz7MYrdP"
      }
    },
    {
      "cell_type": "markdown",
      "source": [
        "#### Chart - 5- Line Item Insurance vs Freight Cost\n",
        "\n",
        "**(Scatter plot with Trend line)**"
      ],
      "metadata": {
        "id": "bamQiAODYuh1"
      }
    },
    {
      "cell_type": "code",
      "source": [
        "plt.figure(figsize=(10,6))\n",
        "sns.scatterplot(x= 'InsuranceUSD', y= 'Freightcost', data=df, color= 'purple', alpha=0.6)\n",
        "sns.regplot(x='InsuranceUSD', y='Freightcost', data=df, scatter=False, color='black')\n",
        "plt.title('Line Item Insurance vs Freight Cost')\n",
        "plt.xlabel('InsuranceUSD')\n",
        "plt.ylabel('Freightcost')\n",
        "plt.tight_layout()\n",
        "plt.show()"
      ],
      "metadata": {
        "id": "TBBeumi3FGCl"
      },
      "execution_count": null,
      "outputs": []
    },
    {
      "cell_type": "code",
      "source": [
        "print(df[['InsuranceUSD', 'Freightcost']].dtypes)\n",
        "print(df[['InsuranceUSD', 'Freightcost']].isnull().sum())\n"
      ],
      "metadata": {
        "id": "IP8q4oNNFJe7"
      },
      "execution_count": null,
      "outputs": []
    },
    {
      "cell_type": "code",
      "source": [
        "df.loc[:, 'InsuranceUSD'] = pd.to_numeric(df['InsuranceUSD'], errors='coerce')\n",
        "df.loc[:, 'Freightcost'] = pd.to_numeric(df['Freightcost'], errors='coerce')\n"
      ],
      "metadata": {
        "id": "8YGV2dKrFMYL"
      },
      "execution_count": null,
      "outputs": []
    },
    {
      "cell_type": "code",
      "source": [
        "df.dropna(subset=['InsuranceUSD', 'Freightcost'], inplace=True)\n"
      ],
      "metadata": {
        "id": "dTFK1byGFOO5"
      },
      "execution_count": null,
      "outputs": []
    },
    {
      "cell_type": "markdown",
      "source": [
        "##### 1. Why did you pick the specific chart?"
      ],
      "metadata": {
        "id": "QHF8YVU7Yuh3"
      }
    },
    {
      "cell_type": "markdown",
      "source": [
        "- A scatter plot is idle for showing the relationship betwee  2 continuous variables. Adding a regression lines helps visualize any liner trend between them."
      ],
      "metadata": {
        "id": "dcxuIMRPYuh3"
      }
    },
    {
      "cell_type": "markdown",
      "source": [
        "##### 2. What is/are the insight(s) found from the chart?"
      ],
      "metadata": {
        "id": "GwzvFGzlYuh3"
      }
    },
    {
      "cell_type": "markdown",
      "source": [
        "-  **Insight**\n",
        "      -  We can observe that higher insurance values tend to correspond with higer freight costs. this may indicate that more expensive or risky items also cost more to ship."
      ],
      "metadata": {
        "id": "0AXo3nxuFgc9"
      }
    },
    {
      "cell_type": "markdown",
      "source": [
        "##### 3. Will the gained insights help creating a positive business impact?\n",
        "Are there any insights that lead to negative growth? Justify with specific reason."
      ],
      "metadata": {
        "id": "qYpmQ266Yuh3"
      }
    },
    {
      "cell_type": "markdown",
      "source": [
        "-  **YES** this insight can help logistics and pricing terms understand how insurance impacts total sjhipments costs and possibly optimize package grouping or shipping methods for cost saving.\n",
        "-  If insurance costs rise disproportionately compared to fright costs, it could signal inefficient packaging or shipment risk, which may lead to increased opertional costsif not addressed."
      ],
      "metadata": {
        "id": "_WtzZ_hCYuh4"
      }
    },
    {
      "cell_type": "markdown",
      "source": [
        "#### Chart - 6- Delivery Status Across Shipment Mode\n",
        "\n",
        "**(Count plot)**"
      ],
      "metadata": {
        "id": "OH-pJp9IphqM"
      }
    },
    {
      "cell_type": "code",
      "source": [
        "plt.figure(figsize=(10,6))\n",
        "sns.countplot(data=df, x='Shipment Mode', hue='On Time Delivery', palette='Set2')\n",
        "plt.title('Delivery Status BY Shipment Mode')\n",
        "plt.xlabel('Shipment Mode')\n",
        "plt.ylabel('Count')\n",
        "plt.xticks(rotation=45)\n",
        "plt.tight_layout()\n",
        "plt.show()"
      ],
      "metadata": {
        "id": "_w023L1IF0iw"
      },
      "execution_count": null,
      "outputs": []
    },
    {
      "cell_type": "markdown",
      "source": [
        "##### 1. Why did you pick the specific chart?"
      ],
      "metadata": {
        "id": "bbFf2-_FphqN"
      }
    },
    {
      "cell_type": "markdown",
      "source": [
        "-  A **Countplot** is effective for comparing categorical variables. Here, we're interested in how frequently each shipmentmode is used and how successful it is in terms of on-time vs late delivery."
      ],
      "metadata": {
        "id": "loh7H2nzphqN"
      }
    },
    {
      "cell_type": "markdown",
      "source": [
        "##### 2. What is/are the insight(s) found from the chart?"
      ],
      "metadata": {
        "id": "_ouA3fa0phqN"
      }
    },
    {
      "cell_type": "markdown",
      "source": [
        "-  **Insight**\n",
        "    -  Air shipments tend to havr higher on-time delivery.\n",
        "    -  Some shipment odes might have disproportonately more late deliveries.\n",
        "    -  Certain modes might be more prone to delays."
      ],
      "metadata": {
        "id": "VECbqPI7phqN"
      }
    },
    {
      "cell_type": "markdown",
      "source": [
        "##### 3. Will the gained insights help creating a positive business impact?\n",
        "Are there any insights that lead to negative growth? Justify with specific reason."
      ],
      "metadata": {
        "id": "Seke61FWphqN"
      }
    },
    {
      "cell_type": "markdown",
      "source": [
        "-  **YES** understading which shipment modses are more reliable helps in\n",
        "    -  Optimizing logistics planning.\n",
        "    -  Choosing efficient shipment methods.\n",
        "    -  Improving customer satisfaction by reducing late deliveries.\n",
        "\n",
        "-  If a frequently used shipment mode cosistenly resukts in delays, it could **negatively** affect operations and customer trust. This insight can drive a switch to more reliable alternatives."
      ],
      "metadata": {
        "id": "DW4_bGpfphqN"
      }
    },
    {
      "cell_type": "markdown",
      "source": [
        "#### Chart - 7 - Delivery Delay by Country\n",
        "\n",
        "**(Bar chart)**"
      ],
      "metadata": {
        "id": "PIIx-8_IphqN"
      }
    },
    {
      "cell_type": "code",
      "source": [
        "plt.figure(figsize=(12,6))\n",
        "delay_by_country= df.groupby('Country')['Delivery Delay (Days)'].mean().reset_index()\n",
        "sns.barplot(x= 'Country', y='Delivery Delay (Days)',data=delay_by_country,hue='Country', palette = 'coolwarm')\n",
        "plt.title(' Average Delivery Delays by Country', fontsize=16)\n",
        "plt.xlabel('Country', fontsize=12)\n",
        "plt.ylabel('Average Delivery Delay (Days)', fontsize=12)\n",
        "plt.xticks(rotation=45, ha='right')\n",
        "plt.tight_layout()\n",
        "plt.show()"
      ],
      "metadata": {
        "id": "35ANLeD1Gvwi"
      },
      "execution_count": null,
      "outputs": []
    },
    {
      "cell_type": "markdown",
      "source": [
        "##### 1. Why did you pick the specific chart?"
      ],
      "metadata": {
        "id": "t27r6nlMphqO"
      }
    },
    {
      "cell_type": "markdown",
      "source": [
        "-  A **Bar chart** is ideale for comparing average delivery delays across countries. It clearly shows performance dfference and helps identifying regions with potential logistics issues."
      ],
      "metadata": {
        "id": "iv6ro40sphqO"
      }
    },
    {
      "cell_type": "markdown",
      "source": [
        "##### 2. What is/are the insight(s) found from the chart?"
      ],
      "metadata": {
        "id": "r2jJGEOYphqO"
      }
    },
    {
      "cell_type": "markdown",
      "source": [
        "-  **Insights**\n",
        "      -  Some countries experience significantly higher delivery delays.\n",
        "      -  This variation may be due to customs delays, inefficient logistics or supplier issues."
      ],
      "metadata": {
        "id": "Po6ZPi4hphqO"
      }
    },
    {
      "cell_type": "markdown",
      "source": [
        "##### 3. Will the gained insights help creating a positive business impact?\n",
        "Are there any insights that lead to negative growth? Justify with specific reason."
      ],
      "metadata": {
        "id": "b0JNsNcRphqO"
      }
    },
    {
      "cell_type": "markdown",
      "source": [
        "-  **YES** it gives a positve business impact. The insights help identify where to improve logistics and optimize delivery processes.\n",
        "-  High delays in some countries may hurt customer satisfaction and ead to potential revenue loss if not addressed."
      ],
      "metadata": {
        "id": "xvSq8iUTphqO"
      }
    },
    {
      "cell_type": "markdown",
      "source": [
        "#### Chart - 8- Top 10 Vendor by total Freight cost\n",
        "\n",
        "**(Horizontal bar chart)**"
      ],
      "metadata": {
        "id": "BZR9WyysphqO"
      }
    },
    {
      "cell_type": "code",
      "source": [
        "top_vendors = df.groupby('Vendor')['Freightcost'].sum().nlargest(10).reset_index()\n",
        "\n",
        "plt.figure(figsize=(12,6))\n",
        "sns.barplot(data=top_vendors, y='Vendor', x='Freightcost', hue= 'Vendor', palette='Blues_r', legend=False)\n",
        "plt.title('Top 10 Vendor by total freight cost')\n",
        "plt.xlabel('Total Freight Cost (USD)')\n",
        "plt.ylabel('Vendor')\n",
        "plt.tight_layout()\n",
        "plt.show()"
      ],
      "metadata": {
        "id": "TdPTWpAVphqO"
      },
      "execution_count": null,
      "outputs": []
    },
    {
      "cell_type": "markdown",
      "source": [
        "##### 1. Why did you pick the specific chart?"
      ],
      "metadata": {
        "id": "jj7wYXLtphqO"
      }
    },
    {
      "cell_type": "markdown",
      "source": [
        "-  This chart hghlight which vendors generate the highest freight costs. It helps in tracking major cost contributors and evaluating vendor efficiency."
      ],
      "metadata": {
        "id": "Ob8u6rCTphqO"
      }
    },
    {
      "cell_type": "markdown",
      "source": [
        "##### 2. What is/are the insight(s) found from the chart?"
      ],
      "metadata": {
        "id": "eZrbJ2SmphqO"
      }
    },
    {
      "cell_type": "markdown",
      "source": [
        "-  **Insights**\n",
        "    -  Some vendors consistently have higher freight.\n",
        "    -  These may be due to larger shipment volumes, hevier goods or less optimized shipping menthods."
      ],
      "metadata": {
        "id": "mZtgC_hjphqO"
      }
    },
    {
      "cell_type": "markdown",
      "source": [
        "##### 3. Will the gained insights help creating a positive business impact?\n",
        "Are there any insights that lead to negative growth? Justify with specific reason."
      ],
      "metadata": {
        "id": "rFu4xreNphqO"
      }
    },
    {
      "cell_type": "markdown",
      "source": [
        "-  It give a positive impact while, helps identifying vendors for cost optimization and negotiation.\n",
        "-  As for negative impact, unchecked high freight costs may reduce profitability or signal inefficiency."
      ],
      "metadata": {
        "id": "ey_0qi68phqO"
      }
    },
    {
      "cell_type": "markdown",
      "source": [
        "#### Chart - 9- On Time Delivery Rate by Vendor\n",
        "\n",
        "**(Lollipop chart)**"
      ],
      "metadata": {
        "id": "YJ55k-q6phqO"
      }
    },
    {
      "cell_type": "code",
      "source": [
        "on_time_rate = df.groupby('Vendor')['On Time Delivery'].value_counts(normalize=True).unstack().fillna(0).reset_index()\n",
        "\n",
        "on_time_rate = on_time_rate[['Vendor','On Time']].rename(columns={'On Time': 'Ontimerate'})\n",
        "on_time_rate = on_time_rate.sort_values(by='Ontimerate', ascending=True)"
      ],
      "metadata": {
        "id": "bB8JqACLK0ld"
      },
      "execution_count": null,
      "outputs": []
    },
    {
      "cell_type": "code",
      "source": [
        "plt.figure(figsize=(12,8))\n",
        "plt.hlines(y=on_time_rate['Vendor'], xmin=0, xmax=on_time_rate['Ontimerate'], color='skyblue')\n",
        "plt.plot(on_time_rate['Ontimerate'], on_time_rate['Vendor'], \"o\", color='blue')\n",
        "plt.title('On-Time Delivery Rate by Vendor')\n",
        "plt.xlabel('On-Time Delivery rate')\n",
        "plt.ylabel('Vendor')\n",
        "plt.tight_layout()\n",
        "plt.show()"
      ],
      "metadata": {
        "id": "OmzO4bqmK4ti"
      },
      "execution_count": null,
      "outputs": []
    },
    {
      "cell_type": "markdown",
      "source": [
        "##### 1. Why did you pick the specific chart?"
      ],
      "metadata": {
        "id": "gCFgpxoyphqP"
      }
    },
    {
      "cell_type": "markdown",
      "source": [
        "-  This chart visualises vendor delivery performance in a clean and engaging way, helping identify top-performing vendors."
      ],
      "metadata": {
        "id": "TVxDimi2phqP"
      }
    },
    {
      "cell_type": "markdown",
      "source": [
        "##### 2. What is/are the insight(s) found from the chart?"
      ],
      "metadata": {
        "id": "OVtJsKN_phqQ"
      }
    },
    {
      "cell_type": "markdown",
      "source": [
        "-  **Insights** some vendors consistently deliver on time, while others lag behind -- highlighing improvement opportunities."
      ],
      "metadata": {
        "id": "ngGi97qjphqQ"
      }
    },
    {
      "cell_type": "markdown",
      "source": [
        "##### 3. Will the gained insights help creating a positive business impact?\n",
        "Are there any insights that lead to negative growth? Justify with specific reason."
      ],
      "metadata": {
        "id": "lssrdh5qphqQ"
      }
    },
    {
      "cell_type": "markdown",
      "source": [
        "-  Yes, realiable vendors support smooth operations.\n",
        "-  Poor performers might cause delays, leading to negative customer experiences."
      ],
      "metadata": {
        "id": "tBpY5ekJphqQ"
      }
    },
    {
      "cell_type": "markdown",
      "source": [
        "#### Chart - 10- Lead Time vs Delivery Delay\n",
        "\n",
        "**(scatterplot)**"
      ],
      "metadata": {
        "id": "U2RJ9gkRphqQ"
      }
    },
    {
      "cell_type": "code",
      "source": [
        "plt.figure(figsize=(10,6))\n",
        "sns.scatterplot(data=df, x='Lead Time (Days)', y='Delivery Delay (Days)', hue= 'Shipment Mode', palette='Set2')\n",
        "plt.title('Lead Time vs Delivery Delay by Shipment Mode', fontsize=16)\n",
        "plt.xlabel('Lead Time (Days)')\n",
        "plt.ylabel('Delivery Delay (Days)')\n",
        "plt.legend(title='Shipment Mode', bbox_to_anchor=(1.05,1), loc='upper left')\n",
        "plt.tight_layout()\n",
        "plt.show()"
      ],
      "metadata": {
        "id": "GM7a4YP4phqQ"
      },
      "execution_count": null,
      "outputs": []
    },
    {
      "cell_type": "markdown",
      "source": [
        "##### 1. Why did you pick the specific chart?"
      ],
      "metadata": {
        "id": "1M8mcRywphqQ"
      }
    },
    {
      "cell_type": "markdown",
      "source": [
        "-  This scatter plot helps identify whether longer lead times help reduce delivery delays, and whether any shipment mode stands out."
      ],
      "metadata": {
        "id": "8agQvks0phqQ"
      }
    },
    {
      "cell_type": "markdown",
      "source": [
        "##### 2. What is/are the insight(s) found from the chart?"
      ],
      "metadata": {
        "id": "tgIPom80phqQ"
      }
    },
    {
      "cell_type": "markdown",
      "source": [
        "-  **Insight** In some cases, longer lead times don't guarentee fewer delays. Certain shipment modes show more consistent delays regardless of lead time."
      ],
      "metadata": {
        "id": "Qp13pnNzphqQ"
      }
    },
    {
      "cell_type": "markdown",
      "source": [
        "##### 3. Will the gained insights help creating a positive business impact?\n",
        "Are there any insights that lead to negative growth? Justify with specific reason."
      ],
      "metadata": {
        "id": "JMzcOPDDphqR"
      }
    },
    {
      "cell_type": "markdown",
      "source": [
        "-  Yes this insight can lead to optimizing lead time estimates and evaluating shipment modes for better accuracy in delivery planning.\n",
        "  "
      ],
      "metadata": {
        "id": "R4Ka1PC2phqR"
      }
    },
    {
      "cell_type": "markdown",
      "source": [
        "#### Chart - 11- Correlation Heatmap of numeric features\n",
        "\n",
        "**Heatmap**"
      ],
      "metadata": {
        "id": "x-EpHcCOp1ci"
      }
    },
    {
      "cell_type": "code",
      "source": [
        "plt.figure(figsize=(10,6))\n",
        "numeric_cols = ['Weightkg','Freightcost','InsuranceUSD','Lead Time (Days)','Delivery Delay (Days)','Line Item Value','Line Item Quantity']\n",
        "corr = df[numeric_cols].corr()\n",
        "\n",
        "sns.heatmap(corr, annot=True, cmap='YlGnBu', linewidths=0.5)\n",
        "plt.title('Correlation heatmap of key metrics', fontsize=16)\n",
        "plt.show()\n"
      ],
      "metadata": {
        "id": "mAQTIvtqp1cj"
      },
      "execution_count": null,
      "outputs": []
    },
    {
      "cell_type": "markdown",
      "source": [
        "##### 1. Why did you pick the specific chart?"
      ],
      "metadata": {
        "id": "X_VqEhTip1ck"
      }
    },
    {
      "cell_type": "markdown",
      "source": [
        "-  This heatmap provides a compact view of how different numeric factors are related, helping spot potential drivers of cost and delays."
      ],
      "metadata": {
        "id": "-vsMzt_np1ck"
      }
    },
    {
      "cell_type": "markdown",
      "source": [
        "##### 2. What is/are the insight(s) found from the chart?"
      ],
      "metadata": {
        "id": "8zGJKyg5p1ck"
      }
    },
    {
      "cell_type": "markdown",
      "source": [
        "-  **Insight**\n",
        "      -  Freight cost is positively correlated with weight, as expected.\n",
        "      -  Delivery delay shows mild correlation with lead time.\n",
        "      -  Insurance value also slightly correlates with item value and weight."
      ],
      "metadata": {
        "id": "ZYdMsrqVp1ck"
      }
    },
    {
      "cell_type": "markdown",
      "source": [
        "##### 3. Will the gained insights help creating a positive business impact?\n",
        "Are there any insights that lead to negative growth? Justify with specific reason."
      ],
      "metadata": {
        "id": "PVzmfK_Ep1ck"
      }
    },
    {
      "cell_type": "markdown",
      "source": [
        "-  Yes, by identify strong correlations, the company can optimize freight planning and set realistic lead tie, educing costs and improving delivery efficiency.\n",
        "-  If ignored, the correlation between higher weight and freight cost lead to profit shinkage. without optimization, logistics may become unnecessarily expensive."
      ],
      "metadata": {
        "id": "druuKYZpp1ck"
      }
    },
    {
      "cell_type": "markdown",
      "source": [
        "#### Chart - 12- Pie Chart of Shipment Mode Distribution\n",
        "\n",
        "**(Pie chart)**"
      ],
      "metadata": {
        "id": "n3dbpmDWp1ck"
      }
    },
    {
      "cell_type": "code",
      "source": [
        "shipment_mode_counts = df['Shipment Mode'].value_counts()"
      ],
      "metadata": {
        "id": "bwevp1tKp1ck"
      },
      "execution_count": null,
      "outputs": []
    },
    {
      "cell_type": "code",
      "source": [
        "plt.figure(figsize=(8,8))\n",
        "plt.pie(shipment_mode_counts, labels=shipment_mode_counts.index, autopct='%1.1f%%', startangle=140, colors=plt.cm.Paired.colors)\n",
        "plt.title('Shipment mode distribution', fontsize=16)\n",
        "plt.show()"
      ],
      "metadata": {
        "id": "iTGMh-B_NC8k"
      },
      "execution_count": null,
      "outputs": []
    },
    {
      "cell_type": "markdown",
      "source": [
        "##### 1. Why did you pick the specific chart?"
      ],
      "metadata": {
        "id": "ylSl6qgtp1ck"
      }
    },
    {
      "cell_type": "markdown",
      "source": [
        "-  Pie charts are great for visualizing categorical distributions.Here, it helps clearly show what percentage of shipments rely on each mode of transport."
      ],
      "metadata": {
        "id": "m2xqNkiQp1ck"
      }
    },
    {
      "cell_type": "markdown",
      "source": [
        "##### 2. What is/are the insight(s) found from the chart?"
      ],
      "metadata": {
        "id": "ZWILFDl5p1ck"
      }
    },
    {
      "cell_type": "markdown",
      "source": [
        "-  **Insight**\n",
        "      -  You can see if your supply chain is heavily reliant on one mode.\n",
        "      -  It helps identify whether you're balancing cost-efficieny and speed."
      ],
      "metadata": {
        "id": "x-lUsV2mp1ck"
      }
    },
    {
      "cell_type": "markdown",
      "source": [
        "##### 3. Will the gained insights help creating a positive business impact?\n",
        "Are there any insights that lead to negative growth? Justify with specific reason."
      ],
      "metadata": {
        "id": "M7G43BXep1ck"
      }
    },
    {
      "cell_type": "markdown",
      "source": [
        "-  Absolutely. understanding the shipment mode split allows better logistics planning, cost control and risk management.\n",
        "-  An over-dependence on high-cost shipment methods like air could hurt margins.A balanced distribution is often more sustainable."
      ],
      "metadata": {
        "id": "5wwDJXsLp1cl"
      }
    },
    {
      "cell_type": "markdown",
      "source": [
        "## **5. Solution to Business Objective**"
      ],
      "metadata": {
        "id": "JcMwzZxoAimU"
      }
    },
    {
      "cell_type": "markdown",
      "source": [
        "To enhance the overall efficiency and reliability of the supply chain, the following solutions are proposed based on data insights:\n",
        "\n",
        " 1. **Optimize shipment mode usage:** Analyze cost vs benefit for each shipment mode. Prioritize sea or road transport for non-urgent orders to reduce freight costs without compromising delivery timelines.\n",
        " 2. **Improve Vendor performance monitoring:** Implement a vendor performance dashboard that tracks on-time delivery rates. Reward reliable vendors and renegotiate terms with underperforming ones.\n",
        " 3. **Reduce lead time variability:** Standardize internal procurement and communication processes to minimize delays between PO issuance and vendor confirmation.\n",
        " 4. **Address country-specific delays:** Identify countries with high delivery delays.Collaborate with logistics providers or local paterns to mitigate region-specific issues.\n",
        " 5. **Cost efficiency through bundling:** Combine smaller orders into bulk shipments to optimize freight and insurance costs, reducing unnecessary expense.\n",
        " 6. **Preditive delay management:** Utilize historical data tto develop predict models for anticipating delivery delays and proactively taking corrective actions.\n",
        "    "
      ],
      "metadata": {
        "id": "8G2x9gOozGDZ"
      }
    },
    {
      "cell_type": "markdown",
      "source": [
        "# **Conclusion**"
      ],
      "metadata": {
        "id": "gCX9965dhzqZ"
      }
    },
    {
      "cell_type": "markdown",
      "source": [
        "The anaysis of the FedEx logistics dataset has revealed several citical insights that can significantly enhance supply chain efficiency and overall operational performance.\n",
        "\n",
        "Firstly, the data indicates that shipment mode plays a pivotal role in determining freight costs and delivery timelines. By evaluating the performance of various shipment methods, it becomes clear that aligning shipment modes with delivery urgency and cost constraints can help reduce unnecessary expenses and delays.\n",
        "\n",
        "Secondly, the exploration of vendor performance through metrics like on-time delivery rates highlights a need for tighter vendor management. Vendors with consistently high delay rates or low punctuality can be flagged for performance reviews or alternative sourcing.\n",
        "\n",
        "Additionally, analysis of freight and insurance costs in the relation to shipment weight and delivery timeliness help identify cost outliers.This insights can guide targeted interventions, such as improving customs processes or building localwarehousing capacity.\n",
        "\n",
        "Finally, the lead tme and delay relationship chart shows that even planned lead times don't always guarentee on-time delivery. This suggests the need to refine lead time calculations and buffer allocations.\n",
        "\n",
        "In summary, this data-driven approach provides a solid foundation for strategic decision-making. It equips the organization to:\n",
        "\n",
        "-  Optimize supply chain planning.\n",
        "-  Enhance customer satisfaction through timely deliveries.\n",
        "-  Reduce costs\n",
        "-  Building stronger vendor partnerships.\n",
        "\n",
        "Regularly updating and analyzing this data will hep FedEx and its stakeholders remain agile, competitive and responsive to changing logistics demands.  "
      ],
      "metadata": {
        "id": "Fjb1IsQkh3yE"
      }
    }
  ]
}